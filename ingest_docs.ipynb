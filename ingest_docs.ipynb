{
 "cells": [
  {
   "cell_type": "markdown",
   "id": "7bbfc9be",
   "metadata": {},
   "source": [
    "### import all dependencies"
   ]
  },
  {
   "cell_type": "code",
   "execution_count": 86,
   "id": "9e901378",
   "metadata": {},
   "outputs": [
    {
     "name": "stdout",
     "output_type": "stream",
     "text": [
      "Requirement already satisfied: faker in ./venv/lib/python3.13/site-packages (37.5.3)\n",
      "Requirement already satisfied: python-dotenv in ./venv/lib/python3.13/site-packages (1.1.1)\n",
      "Collecting pymongo\n",
      "  Downloading pymongo-4.14.1-cp313-cp313-macosx_11_0_arm64.whl.metadata (22 kB)\n",
      "Requirement already satisfied: tzdata in ./venv/lib/python3.13/site-packages (from faker) (2025.2)\n",
      "Collecting dnspython<3.0.0,>=1.16.0 (from pymongo)\n",
      "  Downloading dnspython-2.7.0-py3-none-any.whl.metadata (5.8 kB)\n",
      "Downloading pymongo-4.14.1-cp313-cp313-macosx_11_0_arm64.whl (968 kB)\n",
      "\u001b[2K   \u001b[90m━━━━━━━━━━━━━━━━━━━━━━━━━━━━━━━━━━━━━━━━\u001b[0m \u001b[32m968.2/968.2 kB\u001b[0m \u001b[31m26.9 MB/s\u001b[0m eta \u001b[36m0:00:00\u001b[0m\n",
      "\u001b[?25hDownloading dnspython-2.7.0-py3-none-any.whl (313 kB)\n",
      "Installing collected packages: dnspython, pymongo\n",
      "Successfully installed dnspython-2.7.0 pymongo-4.14.1\n",
      "\n",
      "\u001b[1m[\u001b[0m\u001b[34;49mnotice\u001b[0m\u001b[1;39;49m]\u001b[0m\u001b[39;49m A new release of pip is available: \u001b[0m\u001b[31;49m24.3.1\u001b[0m\u001b[39;49m -> \u001b[0m\u001b[32;49m25.2\u001b[0m\n",
      "\u001b[1m[\u001b[0m\u001b[34;49mnotice\u001b[0m\u001b[1;39;49m]\u001b[0m\u001b[39;49m To update, run: \u001b[0m\u001b[32;49mpip install --upgrade pip\u001b[0m\n",
      "Note: you may need to restart the kernel to use updated packages.\n"
     ]
    }
   ],
   "source": [
    "pip install faker python-dotenv pymongo"
   ]
  },
  {
   "cell_type": "markdown",
   "id": "185eb493",
   "metadata": {},
   "source": [
    "### import common modules & configuration vars"
   ]
  },
  {
   "cell_type": "code",
   "execution_count": null,
   "id": "341f433f",
   "metadata": {},
   "outputs": [],
   "source": [
    "from dotenv import load_dotenv\n",
    "import os\n",
    "load_dotenv()\n",
    "\n",
    "from pprint import pprint"
   ]
  },
  {
   "cell_type": "markdown",
   "id": "1e96bce3",
   "metadata": {},
   "source": [
    "### config values"
   ]
  },
  {
   "cell_type": "code",
   "execution_count": 99,
   "id": "383e199e",
   "metadata": {},
   "outputs": [],
   "source": [
    "CLUSTER_URL = os.getenv(\"CLUSTER_URL\")\n",
    "NBATCH = 100_000"
   ]
  },
  {
   "cell_type": "markdown",
   "id": "71aac356",
   "metadata": {},
   "source": [
    "### choose doc schema"
   ]
  },
  {
   "cell_type": "code",
   "execution_count": 107,
   "id": "d0063fef",
   "metadata": {},
   "outputs": [],
   "source": [
    "from fakedocs import cdr\n",
    "import importlib\n",
    "\n",
    "docgen = importlib.reload(cdr)"
   ]
  },
  {
   "cell_type": "markdown",
   "id": "2796ee84",
   "metadata": {},
   "source": [
    "### ingest docs"
   ]
  },
  {
   "cell_type": "code",
   "execution_count": 108,
   "id": "a8cef329",
   "metadata": {},
   "outputs": [],
   "source": [
    "from pymongo import MongoClient\n",
    "\n",
    "client = MongoClient(CLUSTER_URL)\n",
    "db = client[\"cdr\"]\n",
    "collection = db[\"logs\"]\n",
    "\n",
    "docgen.create_indexes(collection)\n",
    "\n",
    "for docs in docgen.generate_docs(NBATCH):\n",
    "    collection.insert_many(docs)"
   ]
  },
  {
   "cell_type": "markdown",
   "id": "eac85298",
   "metadata": {},
   "source": [
    "### drop logs collction"
   ]
  },
  {
   "cell_type": "code",
   "execution_count": 101,
   "id": "a1282c1b",
   "metadata": {},
   "outputs": [],
   "source": [
    "from pymongo import MongoClient\n",
    "\n",
    "client = MongoClient(CLUSTER_URL)\n",
    "db = client[\"cdr\"]\n",
    "collection = db[\"logs\"]\n",
    "\n",
    "collection.drop()"
   ]
  }
 ],
 "metadata": {
  "kernelspec": {
   "display_name": "venv",
   "language": "python",
   "name": "python3"
  },
  "language_info": {
   "codemirror_mode": {
    "name": "ipython",
    "version": 3
   },
   "file_extension": ".py",
   "mimetype": "text/x-python",
   "name": "python",
   "nbconvert_exporter": "python",
   "pygments_lexer": "ipython3",
   "version": "3.13.1"
  }
 },
 "nbformat": 4,
 "nbformat_minor": 5
}
