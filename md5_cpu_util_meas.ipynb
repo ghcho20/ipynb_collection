{
 "cells": [
  {
   "cell_type": "markdown",
   "id": "374f4478",
   "metadata": {},
   "source": [
    "### Hash function performance check"
   ]
  },
  {
   "cell_type": "markdown",
   "id": "6578f19a",
   "metadata": {},
   "source": [
    "#### common libs"
   ]
  },
  {
   "cell_type": "code",
   "execution_count": 119,
   "id": "0a3266a0",
   "metadata": {},
   "outputs": [],
   "source": [
    "import time, hashlib"
   ]
  },
  {
   "cell_type": "markdown",
   "id": "86c5b614",
   "metadata": {},
   "source": [
    "#### init helper"
   ]
  },
  {
   "cell_type": "code",
   "execution_count": null,
   "id": "c7e22a01",
   "metadata": {},
   "outputs": [],
   "source": [
    "import random\n",
    "import string\n",
    "\n",
    "def random_string(length=10):\n",
    "    letters = string.ascii_letters + string.digits\n",
    "    return ''.join(random.choices(letters, k=length))\n",
    "\n",
    "def random_id():\n",
    "    part1 = random_string(8)\n",
    "    part2 = random_string(4)\n",
    "    part3 = random_string(4)\n",
    "    part4 = random_string(4)\n",
    "    part5 = random_string(12)\n",
    "    return f\"{part1}-{part2}-{part3}-{part4}-{part5}\""
   ]
  },
  {
   "cell_type": "markdown",
   "id": "c7202485",
   "metadata": {},
   "source": [
    "#### common vars"
   ]
  },
  {
   "cell_type": "code",
   "execution_count": 160,
   "id": "f3b117a6",
   "metadata": {},
   "outputs": [],
   "source": [
    "NIDs = 15_000\n",
    "NRPT = 60"
   ]
  },
  {
   "cell_type": "code",
   "execution_count": 232,
   "id": "9b0d2b25",
   "metadata": {},
   "outputs": [],
   "source": [
    "import threading, psutil, queue, statistics\n",
    "\n",
    "INTV = 1\n",
    "\n",
    "def check_cpu_util(q):\n",
    "    cpu = psutil.Process()\n",
    "    utils = []\n",
    "    until = 0\n",
    "    inc, nrpt = (int(INTV*10), NRPT*10) if INTV < 1 else (INTV, NRPT)\n",
    "    while until < nrpt:\n",
    "        utils.append(cpu.cpu_percent(interval=INTV))\n",
    "        until += inc\n",
    "    q.put(utils)\n"
   ]
  },
  {
   "cell_type": "markdown",
   "id": "01489bc7",
   "metadata": {},
   "source": [
    "#### pure random ids"
   ]
  },
  {
   "cell_type": "code",
   "execution_count": 233,
   "id": "ac15d14a",
   "metadata": {},
   "outputs": [
    {
     "name": "stdout",
     "output_type": "stream",
     "text": [
      "Time taken to generate random IDs: 60.2849 seconds\n",
      "Maximum CPU utilization: 7.7000%\n",
      "Average CPU utilization: 6.9917%\n"
     ]
    }
   ],
   "source": [
    "start_time = time.time()\n",
    "\n",
    "q = queue.Queue()\n",
    "cpu_checker = threading.Thread(target=check_cpu_util, args=(q,))\n",
    "cpu_checker.start()\n",
    "for _ in range(NRPT):\n",
    "    tkick = time.time()\n",
    "    [random_id() for _ in range(NIDs)]\n",
    "    telapse = time.time() - tkick\n",
    "    if (1 - telapse) > 0:\n",
    "        time.sleep(1 - telapse)\n",
    "\n",
    "cpu_checker.join()\n",
    "\n",
    "end_time = time.time()\n",
    "etime_pure = end_time - start_time\n",
    "print(f\"Time taken to generate random IDs: {etime_pure:.4f} seconds\")\n",
    "utils_pure = q.get()\n",
    "mx_pure = max(utils_pure)\n",
    "avg_pure = statistics.mean(utils_pure)\n",
    "print(f\"Maximum CPU utilization: {mx_pure:.4f}%\")\n",
    "print(f\"Average CPU utilization: {avg_pure:.4f}%\")"
   ]
  },
  {
   "cell_type": "markdown",
   "id": "daefbeb5",
   "metadata": {},
   "source": [
    "#### hashed ids"
   ]
  },
  {
   "cell_type": "code",
   "execution_count": 234,
   "id": "a595cc48",
   "metadata": {},
   "outputs": [
    {
     "name": "stdout",
     "output_type": "stream",
     "text": [
      "Time taken to hash random IDs: 60.4245 seconds\n",
      "Maximum CPU utilization: 14.6000%\n",
      "Average CPU utilization: 13.1750%\n"
     ]
    }
   ],
   "source": [
    "def md5_hash(text):\n",
    "    return hashlib.md5(text.encode()).hexdigest()\n",
    "\n",
    "start_time = time.time()\n",
    "q = queue.Queue()\n",
    "cpu_checker = threading.Thread(target=check_cpu_util, args=(q, ))\n",
    "cpu_checker.start()\n",
    "for _ in range(NRPT):\n",
    "    tkick = time.time()\n",
    "    [md5_hash(random_id()) for _ in range(NIDs)]\n",
    "    [md5_hash(random_id()) for _ in range(NIDs)]\n",
    "    telapse = time.time() - tkick\n",
    "    if (1 - telapse) > 0:\n",
    "        time.sleep(1 - telapse)\n",
    "\n",
    "cpu_checker.join()\n",
    "\n",
    "end_time = time.time()\n",
    "etime_hash = end_time - start_time\n",
    "print(f\"Time taken to hash random IDs: {etime_hash:.4f} seconds\")\n",
    "utils_hash = q.get()\n",
    "mx_hash = max(utils_hash)\n",
    "avg_hash = statistics.mean(utils_hash)\n",
    "print(f\"Maximum CPU utilization: {mx_hash:.4f}%\")\n",
    "print(f\"Average CPU utilization: {avg_hash:.4f}%\")"
   ]
  },
  {
   "cell_type": "markdown",
   "id": "0a1bb6f5",
   "metadata": {},
   "source": [
    "#### check the diff"
   ]
  },
  {
   "cell_type": "code",
   "execution_count": 235,
   "id": "728be5b5",
   "metadata": {},
   "outputs": [
    {
     "name": "stdout",
     "output_type": "stream",
     "text": [
      "MD5 CPU max overhead: 89.61%\n",
      "MD5 CPU avg overhead: 88.44%\n"
     ]
    }
   ],
   "source": [
    "diff = (mx_hash - mx_pure) * 100 / mx_pure if mx_pure > 0 else 0\n",
    "print(f\"MD5 CPU max overhead: {diff:.2f}%\")\n",
    "\n",
    "diff = (avg_hash - avg_pure) * 100 / avg_pure if avg_pure > 0 else 0\n",
    "print(f\"MD5 CPU avg overhead: {diff:.2f}%\")\n"
   ]
  },
  {
   "cell_type": "markdown",
   "id": "3d4da82a",
   "metadata": {},
   "source": [
    "### Plot"
   ]
  },
  {
   "cell_type": "code",
   "execution_count": 165,
   "id": "c3808b7b",
   "metadata": {},
   "outputs": [
    {
     "name": "stdout",
     "output_type": "stream",
     "text": [
      "Requirement already satisfied: matplotlib in ./venv/lib/python3.13/site-packages (3.10.5)\n",
      "Requirement already satisfied: contourpy>=1.0.1 in ./venv/lib/python3.13/site-packages (from matplotlib) (1.3.3)\n",
      "Requirement already satisfied: cycler>=0.10 in ./venv/lib/python3.13/site-packages (from matplotlib) (0.12.1)\n",
      "Requirement already satisfied: fonttools>=4.22.0 in ./venv/lib/python3.13/site-packages (from matplotlib) (4.59.0)\n",
      "Requirement already satisfied: kiwisolver>=1.3.1 in ./venv/lib/python3.13/site-packages (from matplotlib) (1.4.8)\n",
      "Requirement already satisfied: numpy>=1.23 in ./venv/lib/python3.13/site-packages (from matplotlib) (2.3.2)\n",
      "Requirement already satisfied: packaging>=20.0 in ./venv/lib/python3.13/site-packages (from matplotlib) (25.0)\n",
      "Requirement already satisfied: pillow>=8 in ./venv/lib/python3.13/site-packages (from matplotlib) (11.3.0)\n",
      "Requirement already satisfied: pyparsing>=2.3.1 in ./venv/lib/python3.13/site-packages (from matplotlib) (3.2.3)\n",
      "Requirement already satisfied: python-dateutil>=2.7 in ./venv/lib/python3.13/site-packages (from matplotlib) (2.9.0.post0)\n",
      "Requirement already satisfied: six>=1.5 in ./venv/lib/python3.13/site-packages (from python-dateutil>=2.7->matplotlib) (1.17.0)\n",
      "\n",
      "\u001b[1m[\u001b[0m\u001b[34;49mnotice\u001b[0m\u001b[1;39;49m]\u001b[0m\u001b[39;49m A new release of pip is available: \u001b[0m\u001b[31;49m24.3.1\u001b[0m\u001b[39;49m -> \u001b[0m\u001b[32;49m25.2\u001b[0m\n",
      "\u001b[1m[\u001b[0m\u001b[34;49mnotice\u001b[0m\u001b[1;39;49m]\u001b[0m\u001b[39;49m To update, run: \u001b[0m\u001b[32;49mpip install --upgrade pip\u001b[0m\n",
      "Note: you may need to restart the kernel to use updated packages.\n"
     ]
    }
   ],
   "source": [
    "pip install matplotlib"
   ]
  },
  {
   "cell_type": "code",
   "execution_count": 239,
   "id": "e9b25a98",
   "metadata": {},
   "outputs": [
    {
     "data": {
      "image/png": "[encoded data removed]",
      "text/plain": [
       "<Figure size 640x480 with 1 Axes>"
      ]
     },
     "metadata": {},
     "output_type": "display_data"
    }
   ],
   "source": [
    "import matplotlib.pyplot as plt\n",
    "\n",
    "x = range(0, int(NRPT/INTV))\n",
    "\n",
    "plt.plot(x, utils_pure, label='Pure ID', marker='o', markersize=4, linewidth=1, linestyle=':')\n",
    "plt.plot(x, utils_hash, label='Hashing', marker='o', markersize=4, linewidth=1, linestyle=':')\n",
    "plt.xlabel('Time (s)')\n",
    "plt.ylabel('CPU Utilization (%)')\n",
    "plt.title('CPU Utilization Over Time')\n",
    "plt.legend()\n",
    "plt.show()"
   ]
  }
 ],
 "metadata": {
  "kernelspec": {
   "display_name": "venv",
   "language": "python",
   "name": "python3"
  },
  "language_info": {
   "codemirror_mode": {
    "name": "ipython",
    "version": 3
   },
   "file_extension": ".py",
   "mimetype": "text/x-python",
   "name": "python",
   "nbconvert_exporter": "python",
   "pygments_lexer": "ipython3",
   "version": "3.13.1"
  }
 },
 "nbformat": 4,
 "nbformat_minor": 5
}
